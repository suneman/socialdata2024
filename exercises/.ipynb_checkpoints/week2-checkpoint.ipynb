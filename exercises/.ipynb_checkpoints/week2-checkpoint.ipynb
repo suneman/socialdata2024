{
 "cells": [
  {
   "cell_type": "markdown",
   "id": "c5888afa",
   "metadata": {},
   "source": [
    "# Week 2\n",
    "\n",
    "## Part 1: A little visualization exercise\n",
    "Start by downloading these four datasets: Data 1, Data 2, Data 3, and Data 4. The format is .tsv, which stands for tab separated values. As you will later realize, these are famous datasets! Each file has two columns (separated using the tab character). The first column is x\n",
    "-values, and the second column is y\n",
    "-values.\n",
    "\n",
    "*Exercise:*\n",
    "\n",
    "- Using the numpy function mean, calculate the mean of both x\n",
    "-values and y\n",
    "-values for each dataset.\n",
    "- Use python string formatting to print precisely two decimal places of these results to the output cell. Check out this stackoverflow page for help with the string formatting."
   ]
  },
  {
   "cell_type": "code",
   "execution_count": 1,
   "id": "3a91f649",
   "metadata": {},
   "outputs": [],
   "source": [
    "%matplotlib inline\n",
    "import numpy as np\n",
    "import seaborn\n",
    "seaborn.reset_orig()\n",
    "\n",
    "import pandas as pd\n",
    "\n",
    "dflist = [df1, df2, df3, df4] = pd.read_csv(\"../files/data1.tsv\",  sep='\\t', names=[\"x\", \"y\"]), \\\n",
    "    pd.read_csv(\"../files/data2.tsv\",  sep='\\t', header = None, names=[\"x\", \"y\"]), \\\n",
    "    pd.read_csv(\"../files/data3.tsv\",  sep='\\t', header = None, names=[\"x\", \"y\"]), \\\n",
    "    pd.read_csv(\"../files/data4.tsv\",  sep='\\t', header = None, names=[\"x\", \"y\"])"
   ]
  },
  {
   "cell_type": "code",
   "execution_count": 2,
   "id": "de7c5248",
   "metadata": {},
   "outputs": [
    {
     "data": {
      "text/html": [
       "<div>\n",
       "<style scoped>\n",
       "    .dataframe tbody tr th:only-of-type {\n",
       "        vertical-align: middle;\n",
       "    }\n",
       "\n",
       "    .dataframe tbody tr th {\n",
       "        vertical-align: top;\n",
       "    }\n",
       "\n",
       "    .dataframe thead th {\n",
       "        text-align: right;\n",
       "    }\n",
       "</style>\n",
       "<table border=\"1\" class=\"dataframe\">\n",
       "  <thead>\n",
       "    <tr style=\"text-align: right;\">\n",
       "      <th></th>\n",
       "      <th>x</th>\n",
       "      <th>y</th>\n",
       "    </tr>\n",
       "  </thead>\n",
       "  <tbody>\n",
       "    <tr>\n",
       "      <th>0</th>\n",
       "      <td>10</td>\n",
       "      <td>9.14</td>\n",
       "    </tr>\n",
       "    <tr>\n",
       "      <th>1</th>\n",
       "      <td>8</td>\n",
       "      <td>8.14</td>\n",
       "    </tr>\n",
       "    <tr>\n",
       "      <th>2</th>\n",
       "      <td>13</td>\n",
       "      <td>8.74</td>\n",
       "    </tr>\n",
       "    <tr>\n",
       "      <th>3</th>\n",
       "      <td>9</td>\n",
       "      <td>8.77</td>\n",
       "    </tr>\n",
       "    <tr>\n",
       "      <th>4</th>\n",
       "      <td>11</td>\n",
       "      <td>9.26</td>\n",
       "    </tr>\n",
       "    <tr>\n",
       "      <th>5</th>\n",
       "      <td>14</td>\n",
       "      <td>8.10</td>\n",
       "    </tr>\n",
       "    <tr>\n",
       "      <th>6</th>\n",
       "      <td>6</td>\n",
       "      <td>6.13</td>\n",
       "    </tr>\n",
       "    <tr>\n",
       "      <th>7</th>\n",
       "      <td>4</td>\n",
       "      <td>3.10</td>\n",
       "    </tr>\n",
       "    <tr>\n",
       "      <th>8</th>\n",
       "      <td>12</td>\n",
       "      <td>9.13</td>\n",
       "    </tr>\n",
       "    <tr>\n",
       "      <th>9</th>\n",
       "      <td>7</td>\n",
       "      <td>7.26</td>\n",
       "    </tr>\n",
       "    <tr>\n",
       "      <th>10</th>\n",
       "      <td>5</td>\n",
       "      <td>4.74</td>\n",
       "    </tr>\n",
       "  </tbody>\n",
       "</table>\n",
       "</div>"
      ],
      "text/plain": [
       "     x     y\n",
       "0   10  9.14\n",
       "1    8  8.14\n",
       "2   13  8.74\n",
       "3    9  8.77\n",
       "4   11  9.26\n",
       "5   14  8.10\n",
       "6    6  6.13\n",
       "7    4  3.10\n",
       "8   12  9.13\n",
       "9    7  7.26\n",
       "10   5  4.74"
      ]
     },
     "execution_count": 2,
     "metadata": {},
     "output_type": "execute_result"
    }
   ],
   "source": [
    "dflist[1]"
   ]
  },
  {
   "cell_type": "code",
   "execution_count": 3,
   "id": "e50ce6d9",
   "metadata": {},
   "outputs": [
    {
     "data": {
      "text/html": [
       "<div>\n",
       "<style scoped>\n",
       "    .dataframe tbody tr th:only-of-type {\n",
       "        vertical-align: middle;\n",
       "    }\n",
       "\n",
       "    .dataframe tbody tr th {\n",
       "        vertical-align: top;\n",
       "    }\n",
       "\n",
       "    .dataframe thead th {\n",
       "        text-align: right;\n",
       "    }\n",
       "</style>\n",
       "<table border=\"1\" class=\"dataframe\">\n",
       "  <thead>\n",
       "    <tr style=\"text-align: right;\">\n",
       "      <th></th>\n",
       "      <th>x</th>\n",
       "      <th>y</th>\n",
       "    </tr>\n",
       "  </thead>\n",
       "  <tbody>\n",
       "    <tr>\n",
       "      <th>0</th>\n",
       "      <td>10</td>\n",
       "      <td>9.14</td>\n",
       "    </tr>\n",
       "    <tr>\n",
       "      <th>1</th>\n",
       "      <td>8</td>\n",
       "      <td>8.14</td>\n",
       "    </tr>\n",
       "    <tr>\n",
       "      <th>2</th>\n",
       "      <td>13</td>\n",
       "      <td>8.74</td>\n",
       "    </tr>\n",
       "    <tr>\n",
       "      <th>3</th>\n",
       "      <td>9</td>\n",
       "      <td>8.77</td>\n",
       "    </tr>\n",
       "    <tr>\n",
       "      <th>4</th>\n",
       "      <td>11</td>\n",
       "      <td>9.26</td>\n",
       "    </tr>\n",
       "    <tr>\n",
       "      <th>5</th>\n",
       "      <td>14</td>\n",
       "      <td>8.10</td>\n",
       "    </tr>\n",
       "    <tr>\n",
       "      <th>6</th>\n",
       "      <td>6</td>\n",
       "      <td>6.13</td>\n",
       "    </tr>\n",
       "    <tr>\n",
       "      <th>7</th>\n",
       "      <td>4</td>\n",
       "      <td>3.10</td>\n",
       "    </tr>\n",
       "    <tr>\n",
       "      <th>8</th>\n",
       "      <td>12</td>\n",
       "      <td>9.13</td>\n",
       "    </tr>\n",
       "    <tr>\n",
       "      <th>9</th>\n",
       "      <td>7</td>\n",
       "      <td>7.26</td>\n",
       "    </tr>\n",
       "    <tr>\n",
       "      <th>10</th>\n",
       "      <td>5</td>\n",
       "      <td>4.74</td>\n",
       "    </tr>\n",
       "  </tbody>\n",
       "</table>\n",
       "</div>"
      ],
      "text/plain": [
       "     x     y\n",
       "0   10  9.14\n",
       "1    8  8.14\n",
       "2   13  8.74\n",
       "3    9  8.77\n",
       "4   11  9.26\n",
       "5   14  8.10\n",
       "6    6  6.13\n",
       "7    4  3.10\n",
       "8   12  9.13\n",
       "9    7  7.26\n",
       "10   5  4.74"
      ]
     },
     "execution_count": 3,
     "metadata": {},
     "output_type": "execute_result"
    }
   ],
   "source": [
    "df2"
   ]
  },
  {
   "cell_type": "code",
   "execution_count": 4,
   "id": "d3f07b4a",
   "metadata": {},
   "outputs": [
    {
     "name": "stdout",
     "output_type": "stream",
     "text": [
      "Means:\n",
      " df1: x: 9.00 y: 7.50\n",
      " df2: x: 9.00 y: 7.50\n",
      " df3: x: 9.00 y: 7.50\n",
      " df4: x: 9.00 y: 7.50\n"
     ]
    }
   ],
   "source": [
    "print(f\"Means:\")\n",
    "i = 1\n",
    "for df in dflist:\n",
    "    print(f\" df{i}: x: {np.mean(df['x']):.2f} y: {np.mean(df['y']):.2f}\")\n",
    "    i = i+1"
   ]
  },
  {
   "cell_type": "markdown",
   "id": "414ddf6c",
   "metadata": {},
   "source": [
    "- Now calculate the variance for all of the various sets of x- and y-values, by using the numpy function var. Print it to three decimal places."
   ]
  },
  {
   "cell_type": "code",
   "execution_count": 5,
   "id": "812aadef",
   "metadata": {},
   "outputs": [
    {
     "name": "stdout",
     "output_type": "stream",
     "text": [
      "Variance:\n",
      " df1: x: 10.000 y: 3.752\n",
      " df2: x: 10.000 y: 3.752\n",
      " df3: x: 10.000 y: 3.748\n",
      " df4: x: 10.000 y: 3.748\n"
     ]
    }
   ],
   "source": [
    "print(f\"Variance:\")\n",
    "i = 1\n",
    "for df in dflist:\n",
    "    print(f\" df{i}: x: {np.var(df['x']):.3f} y: {np.var(df['y']):.3f}\")\n",
    "    i = i+1\n"
   ]
  },
  {
   "cell_type": "markdown",
   "id": "98718aa0",
   "metadata": {},
   "source": [
    "**Code Tutor**\n",
    "Your approach to calculating the variance for each DataFrame in dflist is generally correct. However, there's a crucial detail about variance calculation in NumPy that might affect your results.\n",
    "\n",
    "By default, np.var() calculates the variance using a denominator of N (the number of elements in the sample), which is known as the population variance. In many statistical contexts, especially when dealing with a sample of a larger population (like Anscombe's quartet), the sample variance is preferred. The sample variance uses N-1 in the denominator, which is an unbiased estimator of the population variance.\n",
    "\n",
    "To calculate the sample variance, you should set the ddof (Delta Degrees of Freedom) parameter to 1 in np.var()"
   ]
  },
  {
   "cell_type": "code",
   "execution_count": 6,
   "id": "e73e3886",
   "metadata": {},
   "outputs": [
    {
     "name": "stdout",
     "output_type": "stream",
     "text": [
      "Variance:\n",
      " df1: x: 11.000 y: 4.127\n",
      " df2: x: 11.000 y: 4.128\n",
      " df3: x: 11.000 y: 4.123\n",
      " df4: x: 11.000 y: 4.123\n"
     ]
    }
   ],
   "source": [
    "print(f\"Variance:\")\n",
    "i = 1\n",
    "for df in dflist:\n",
    "    print(f\" df{i}: x: {np.var(df['x'], ddof=1):.3f} y: {np.var(df['y'], ddof=1):.3f}\")\n",
    "    i = i+1\n"
   ]
  },
  {
   "cell_type": "markdown",
   "id": "551e60e7",
   "metadata": {},
   "source": [
    "- Use numpy to calculate the Pearson correlation between x- and y-values for all four data sets (also print to three decimal places)."
   ]
  },
  {
   "cell_type": "code",
   "execution_count": 7,
   "id": "bb23c979",
   "metadata": {},
   "outputs": [
    {
     "name": "stdout",
     "output_type": "stream",
     "text": [
      "pearson correlation dataset 1: \n",
      "  [[1.000 0.816]\n",
      " [0.816 1.000]]\n",
      " \n",
      "pearson correlation dataset 2: \n",
      "  [[1.000 0.816]\n",
      " [0.816 1.000]]\n",
      " \n",
      "pearson correlation dataset 3: \n",
      "  [[1.000 0.816]\n",
      " [0.816 1.000]]\n",
      " \n",
      "pearson correlation dataset 4: \n",
      "  [[1.000 0.817]\n",
      " [0.817 1.000]]\n",
      " \n"
     ]
    }
   ],
   "source": [
    "np.set_printoptions(formatter={'float': lambda x: \"{0:0.3f}\".format(x)})\n",
    "i=0\n",
    "pearsonlist = []\n",
    "\n",
    "for df in dflist:\n",
    "#    pearsonlist.append(np.corrcoef(df[\"x\"], df[\"y\"]))\n",
    "    print(f\"pearson correlation dataset {i+1}: \\n  {np.corrcoef(df['x'], df['y'])}\\n \")\n",
    "    i = i + 1\n"
   ]
  },
  {
   "cell_type": "markdown",
   "id": "de8f3fc2",
   "metadata": {},
   "source": [
    "- The next step is use linear regression to fit a straight line f(x)=ax+b through each dataset and report a and b\n",
    " (to two decimal places). An easy way to fit a straight line in Python is using scipy's linregress. It works like this:\n",
    "\n",
    "```\n",
    "from scipy import stats\n",
    "slope1, intercept1, r_value1, p_valu1e, std_err1 = stats.linregress(df1[\"x\"], df1[\"y\"])\n",
    "````\n"
   ]
  },
  {
   "cell_type": "code",
   "execution_count": 8,
   "id": "e78c1088",
   "metadata": {},
   "outputs": [
    {
     "name": "stdout",
     "output_type": "stream",
     "text": [
      "f1(x) = ax+b = 0.50x + 3.00 \n",
      "\n",
      "f2(x) = ax+b = 0.50x + 3.00 \n",
      "\n",
      "f3(x) = ax+b = 0.50x + 3.00 \n",
      "\n",
      "f4(x) = ax+b = 0.50x + 3.00 \n",
      "\n"
     ]
    }
   ],
   "source": [
    "from scipy import stats\n",
    "regression_results = []\n",
    "i = 0\n",
    "\n",
    "for df in dflist:\n",
    "    i = i + 1\n",
    "    slope, intercept, r_value, p_value, std_err = stats.linregress(df[\"x\"], df[\"y\"])\n",
    "#   print(f\"Slope: {slope:.3f}, Intercept: {intercept:.3f}, R-value: {r_value:.3f}, P-value: {p_value:.3f}, Std Err: {std_err:.3f}\")\n",
    "    print(f\"f{i}(x) = ax+b = {slope:.2f}x + {intercept:.2f} \\n\")\n",
    "    \n",
    "    regression_results.append((slope, intercept))\n"
   ]
  },
  {
   "cell_type": "markdown",
   "id": "d83f8dee",
   "metadata": {},
   "source": [
    "- Comment on the results from the previous steps. What do you observe?"
   ]
  },
  {
   "cell_type": "markdown",
   "id": "33cbb954",
   "metadata": {},
   "source": [
    "Observations:\n",
    "- Even though the data differs, they have same means, and almost same variance\n",
    "- Pearsom correlation between x and y also seems the same\n",
    "- They can all be fitted to same line in linear regression"
   ]
  },
  {
   "cell_type": "markdown",
   "id": "47254673",
   "metadata": {},
   "source": [
    "Finally, it's time to plot the four datasets using matplotlib.pyplot. Use a two-by-two subplot to put all of the plots nicely in a grid and use the same x\n",
    " and y\n",
    " range for all four plots. And include the linear fit in all four plots. (To get a sense of what I think the plot should look like, you can take a look at my version here.)\n"
   ]
  },
  {
   "cell_type": "code",
   "execution_count": 9,
   "id": "7dbd142c",
   "metadata": {},
   "outputs": [
    {
     "data": {
      "image/png": "[encoded data removed]",
      "text/plain": [
       "<Figure size 1000x600 with 4 Axes>"
      ]
     },
     "metadata": {},
     "output_type": "display_data"
    }
   ],
   "source": [
    "import matplotlib.pyplot as plt\n",
    "import matplotlib.cm as cm\n",
    "\n",
    "#define subplot layout - 2x2\n",
    "fig, axes = plt.subplots(nrows=2, ncols=2, figsize=(10, 6)) # Adjust figsize as needed , figsize=(8, 16)\n",
    "fig.suptitle(\"Four datasets\")\n",
    "\n",
    "plt.title(\"Plots of the four datasets\")\n",
    "\n",
    "# Flatten the axes array for easy iteration\n",
    "axes = axes.flatten()\n",
    "\n",
    "# Create a colormap\n",
    "# Matplotlib has several built-in colormaps like viridis, plasma, inferno, magma, etc.\n",
    "#colors = cm.copper(np.linspace(0, 1, num_plots))\n",
    "\n",
    "i=0\n",
    "for ax, df, (a, b) in zip(axes, dflist, regression_results):\n",
    "    i = i + 1\n",
    "    ds = \"Dataset \" + str(i)\n",
    "    ax.scatter(df[\"x\"], df[\"y\"], color=\"red\")\n",
    "    ax.set_title(ds, size=12)\n",
    "    ax.set_xlim(0,20)\n",
    "    ax.set_ylim(0,15)\n",
    "    ax.set_xticks(range(0,21,5))\n",
    "    ax.set_yticks(range(0,16,5))\n",
    "\n",
    "    reg_line = a * df[\"x\"] + b\n",
    "    ax.plot(df[\"x\"], reg_line, color=\"black\")  # Change color as needed\n",
    "\n",
    "    \n",
    "# Adjust layout for better spacing\n",
    "plt.tight_layout()\n",
    "plt.subplots_adjust(top=0.95) # Adjust as needed for the main title\n",
    "plt.show()\n"
   ]
  },
  {
   "cell_type": "markdown",
   "id": "4c9170d0",
   "metadata": {},
   "source": [
    "Lesson learned: You cannot always interpret what type of data we have (the behaiour and predictions), by just looking at the mean, the variance, pearson correlation and linear fit. \n",
    "\n",
    "We might look for outliers, bias, perhaps better fits (such as polynomial) ...\n",
    "\n",
    "Therefore: always plot your data when possible! "
   ]
  },
  {
   "cell_type": "markdown",
   "id": "d2435037",
   "metadata": {},
   "source": [
    "**Excercise: Questions for the lecture**\n",
    "\n",
    "**Q: What is the difference between data and metadata? How does that relate to the GPS tracks-example?**\n",
    "\n",
    "- *metadata is data about the data that we are interested it.*\n",
    "\n",
    "\n",
    "**Q: Sune says that the human eye is a great tool for data analysis. Do you agree? Explain why/why not. Mention something that the human eye is very good at. Can you think of something that is difficult for the human eye. Explain why your example is difficult.**\n",
    "\n",
    "- *It is, when it has to do with an overall view and it is in the right size, or the sizes don't vary in extreemes. For example it is almost impossible to visualise a model of the solar system that is true to size and diatances.*\n",
    "\n",
    "**Q: Simpson's paradox is hard to explain. Come up with your own example - or find one on line.**\n",
    "- *In a periodic table, nobel gasses will have different trends in bonding with other elements ... I dunno.*\n",
    "- *Humans in different social group or geographics can have differend trends for when they get kids, how many kids, level of education etc*\n",
    "\n",
    "**Q: In your own words, explain the differnece between exploratory and explanatory data analysis.**\n",
    "- *Exploratory: We look at data exploratory to find patterns and trends and what to look for further.*\n",
    "- *Explanatory: We have some data and perhaps see some trends or patterns that we want to explain*"
   ]
  },
  {
   "cell_type": "markdown",
   "id": "bc709299",
   "metadata": {},
   "source": [
    "## Part 2: Visualizing patterns in the data\n",
    "Visualizing data is a powerful technique that helps us exploiting the human eye, and make complex patterns easier to identify.\n",
    "\n",
    "Let's see if we can detect any interesting patterns in the big crime-data file from San Francisco you downloaded last week. We'll again only look at the focus-crimes."
   ]
  },
  {
   "cell_type": "code",
   "execution_count": 10,
   "id": "0b18e478",
   "metadata": {},
   "outputs": [],
   "source": [
    "focuscrimes = set(['WEAPON LAWS', 'PROSTITUTION', 'DRIVING UNDER THE INFLUENCE', 'ROBBERY', 'BURGLARY', 'ASSAULT', 'DRUNKENNESS', 'DRUG/NARCOTIC', 'TRESPASS', 'LARCENY/THEFT', 'VANDALISM', 'VEHICLE THEFT', 'STOLEN PROPERTY', 'DISORDERLY CONDUCT'])"
   ]
  },
  {
   "cell_type": "markdown",
   "id": "0e4487b4",
   "metadata": {},
   "source": [
    "Exercise: More temporal patterns. Last time we plotted the development over time (how each of the focus crimes changed over time, year-by-year). Today we'll start by looking at the developments across the months, weekdays, and across the 24 hours of the day.\n",
    "\n",
    "**Note:** restrict yourself to the dataset of entire years.\n",
    "\n",
    "- Weekly patterns. Basically, we'll forget about the yearly variation and just count up what happens during each weekday. Here's what my version looks like. Some things make sense - for example drunkenness and the weekend. But there are some aspects that were surprising to me. Check out prostitution and mid-week behavior, for example!?\n",
    "- The months. We can also check if some months are worse by counting up number of crimes in Jan, Feb, ..., Dec. Did you see any surprises there?\n",
    "- The 24 hour cycle. We can also forget about weekday and simply count up the number of each crime-type that occurs in the dataset from midnight to 1am, 1am - 2am ... and so on. Again: Give me a couple of comments on what you see.\n",
    "- Hours of the week. But by looking at just 24 hours, we may be missing some important trends that can be modulated by week-day, so let's also check out the 168 hours of the week. So let's see the number of each crime-type Monday night from midninght to 1am, Monday night from 1am-2am - all the way to Sunday night from 11pm to midnight."
   ]
  },
  {
   "cell_type": "code",
   "execution_count": 11,
   "id": "f34fce62",
   "metadata": {},
   "outputs": [],
   "source": [
    "#import import_ipynb\n",
    "#import Ex1"
   ]
  },
  {
   "cell_type": "markdown",
   "id": "e29f45b5",
   "metadata": {},
   "source": [
    "**Nah ... se Ex1 / week1 for Part 2**\n",
    "\n",
    "[Se week 1](./Ex1.ipynb)"
   ]
  },
  {
   "cell_type": "markdown",
   "id": "e40332f1",
   "metadata": {},
   "source": [
    "## Part 3: Creating nice plots\n",
    "\n",
    "**Nice plots:**\n",
    "- subplots instead of long list of plots\n",
    "- space - search for tight layout matplotlib - better for showing on a page\n",
    "- Axes 1: LABELS!!\n",
    "- Axes 2: name them, but also, and give them values that makes sense\n",
    "- Axes 3: Zoom level - show the entire range of an axes if it makes sense, not just auto-zoom in. \n",
    "- - zoom level in subplots - comparable axes\n",
    "- don't show more than neseccary for data. Data-ink ratio (less is more)\n",
    "- Maybe change font from the original DejaVu Sans\n",
    "- Captions!\n",
    "- (and the 10th: there are always exceptions to the rules)"
   ]
  },
  {
   "cell_type": "markdown",
   "id": "9aa7be42",
   "metadata": {},
   "source": [
    "##  Part 4: Exploring other types of plots for temporal data\n",
    " "
   ]
  },
  {
   "cell_type": "code",
   "execution_count": null,
   "id": "bf4f1fc6",
   "metadata": {},
   "outputs": [],
   "source": []
  },
  {
   "cell_type": "code",
   "execution_count": null,
   "id": "2c1e351f",
   "metadata": {},
   "outputs": [],
   "source": []
  }
 ],
 "metadata": {
  "kernelspec": {
   "display_name": "Python 3 (ipykernel)",
   "language": "python",
   "name": "python3"
  },
  "language_info": {
   "codemirror_mode": {
    "name": "ipython",
    "version": 3
   },
   "file_extension": ".py",
   "mimetype": "text/x-python",
   "name": "python",
   "nbconvert_exporter": "python",
   "pygments_lexer": "ipython3",
   "version": "3.11.5"
  }
 },
 "nbformat": 4,
 "nbformat_minor": 5
}
